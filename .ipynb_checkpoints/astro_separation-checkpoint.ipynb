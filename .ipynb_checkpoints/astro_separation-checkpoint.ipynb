{
 "cells": [
  {
   "cell_type": "code",
   "execution_count": null,
   "id": "c5952cd7-2b6c-453c-9494-f03efffb87d0",
   "metadata": {},
   "outputs": [],
   "source": [
    "# Import necessary modules\n",
    "import astropy.units as u\n",
    "from astropy.coordinates import SkyCoord\n",
    "import ipywidgets as widgets\n",
    "from IPython.display import display, clear_output\n",
    "\n",
    "# Function to parse coordinate strings (hours or degrees)\n",
    "def parse_coord(ra, dec):\n",
    "    \"\"\"\n",
    "    Parse RA and Dec strings. If RA contains letters or colon, assume hours format.\n",
    "    Otherwise assume decimal degrees.\n",
    "    \"\"\"\n",
    "    if isinstance(ra, str) and (':' in ra or any(c.isalpha() for c in ra)):\n",
    "        # Try sexagesimal (hh:mm:ss, dd:mm:ss) input\n",
    "        try:\n",
    "            coord = SkyCoord(ra=ra, dec=dec, unit=(u.hourangle, u.deg), frame='icrs')\n",
    "        except Exception:\n",
    "            raise ValueError(\"Invalid coordinate format. Use hh:mm:ss or numeric degrees.\")\n",
    "    else:\n",
    "        # Try decimal degrees\n",
    "        try:\n",
    "            coord = SkyCoord(ra=float(ra) * u.deg, dec=float(dec) * u.deg, frame='icrs')\n",
    "        except Exception:\n",
    "            raise ValueError(\"RA and Dec must be numeric or in hh:mm:ss format.\")\n",
    "    return coord\n",
    "\n",
    "# Create widgets for coordinate input\n",
    "ra1_text = widgets.Text(value=\"\", description=\"RA1:\", placeholder=\"hh:mm:ss or deg\")\n",
    "dec1_text = widgets.Text(value=\"\", description=\"Dec1:\", placeholder=\"dd:mm:ss or deg\")\n",
    "ra2_text = widgets.Text(value=\"\", description=\"RA2:\", placeholder=\"hh:mm:ss or deg\")\n",
    "dec2_text = widgets.Text(value=\"\", description=\"Dec2:\", placeholder=\"dd:mm:ss or deg\")\n",
    "sep_button = widgets.Button(description=\"Compute Separation\")\n",
    "sep_output = widgets.Output()\n",
    "\n",
    "# Compute separation when button is clicked\n",
    "def compute_separation(_):\n",
    "    with sep_output:\n",
    "        clear_output()\n",
    "        try:\n",
    "            coord1 = parse_coord(ra1_text.value, dec1_text.value)\n",
    "            coord2 = parse_coord(ra2_text.value, dec2_text.value)\n",
    "            sep = coord1.separation(coord2)\n",
    "            print(f\"Angular Separation: {sep.deg:.6f} deg\")\n",
    "        except Exception as e:\n",
    "            print(f\"Error: {e}\")\n",
    "\n",
    "sep_button.on_click(compute_separation)\n",
    "\n",
    "# Display the UI\n",
    "display(widgets.VBox([\n",
    "    widgets.Label(\"Angular Separation Calculator:\"),\n",
    "    ra1_text, dec1_text, ra2_text, dec2_text,\n",
    "    sep_button, sep_output\n",
    "]))"
   ]
  }
 ],
 "metadata": {
  "kernelspec": {
   "display_name": "Python 3 (ipykernel)",
   "language": "python",
   "name": "python3"
  },
  "language_info": {
   "codemirror_mode": {
    "name": "ipython",
    "version": 3
   },
   "file_extension": ".py",
   "mimetype": "text/x-python",
   "name": "python",
   "nbconvert_exporter": "python",
   "pygments_lexer": "ipython3",
   "version": "3.13.2"
  }
 },
 "nbformat": 4,
 "nbformat_minor": 5
}
