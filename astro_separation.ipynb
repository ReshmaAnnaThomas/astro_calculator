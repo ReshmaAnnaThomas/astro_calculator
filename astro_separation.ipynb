# Import necessary modules
import astropy.units as u
from astropy.coordinates import SkyCoord
import ipywidgets as widgets
from IPython.display import display, clear_output

# Function to parse coordinate strings (hours or degrees)
def parse_coord(ra, dec):
    """
    Parse RA and Dec strings. If RA contains letters or colon, assume hours format.
    Otherwise assume decimal degrees.
    """
    if isinstance(ra, str) and (':' in ra or any(c.isalpha() for c in ra)):
        # Try sexagesimal (hh:mm:ss, dd:mm:ss) input
        try:
            coord = SkyCoord(ra=ra, dec=dec, unit=(u.hourangle, u.deg), frame='icrs')
        except Exception:
            raise ValueError("Invalid coordinate format. Use hh:mm:ss or numeric degrees.")
    else:
        # Try decimal degrees
        try:
            coord = SkyCoord(ra=float(ra) * u.deg, dec=float(dec) * u.deg, frame='icrs')
        except Exception:
            raise ValueError("RA and Dec must be numeric or in hh:mm:ss format.")
    return coord

# Create widgets for coordinate input
ra1_text = widgets.Text(value="", description="RA1:", placeholder="hh:mm:ss or deg")
dec1_text = widgets.Text(value="", description="Dec1:", placeholder="dd:mm:ss or deg")
ra2_text = widgets.Text(value="", description="RA2:", placeholder="hh:mm:ss or deg")
dec2_text = widgets.Text(value="", description="Dec2:", placeholder="dd:mm:ss or deg")
sep_button = widgets.Button(description="Compute Separation")
sep_output = widgets.Output()

# Compute separation when button is clicked
def compute_separation(_):
    with sep_output:
        clear_output()
        try:
            coord1 = parse_coord(ra1_text.value, dec1_text.value)
            coord2 = parse_coord(ra2_text.value, dec2_text.value)
            sep = coord1.separation(coord2)
            print(f"Angular Separation: {sep.deg:.6f} deg")
        except Exception as e:
            print(f"Error: {e}")

sep_button.on_click(compute_separation)

# Display the UI
display(widgets.VBox([
    widgets.Label("Angular Separation Calculator:"),
    ra1_text, dec1_text, ra2_text, dec2_text,
    sep_button, sep_output
]))

