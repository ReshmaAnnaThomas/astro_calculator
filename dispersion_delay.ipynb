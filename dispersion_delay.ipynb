{
 "cells": [
  {
   "cell_type": "code",
   "execution_count": null,
   "id": "36f2cdd9-4aea-45bd-b00f-b3e87a30849f",
   "metadata": {},
   "outputs": [],
   "source": [
    "# Dispersion Delay Calculator Notebook\n",
    "\n",
    "import ipywidgets as widgets\n",
    "from IPython.display import display, clear_output\n",
    "\n",
    "# Create input widgets\n",
    "freq1 = widgets.FloatText(description=\"Freq 1 (MHz):\", value=1400.0)\n",
    "freq2 = widgets.FloatText(description=\"Freq 2 (MHz):\", value=1500.0)\n",
    "dm = widgets.FloatText(description=\"DM (pc/cm³):\", value=50.0)\n",
    "\n",
    "compute_btn = widgets.Button(description=\"Compute Delay\")\n",
    "output = widgets.Output()\n",
    "\n",
    "# Dispersion delay formula (ms)\n",
    "def compute_delay(_):\n",
    "    with output:\n",
    "        clear_output()\n",
    "        f1 = freq1.value\n",
    "        f2 = freq2.value\n",
    "        dispersion_measure = dm.value\n",
    "        \n",
    "        if f1 <= 0 or f2 <= 0:\n",
    "            print(\"Frequencies must be > 0\")\n",
    "            return\n",
    "        \n",
    "        try:\n",
    "            delay = 4.15e3 * dispersion_measure * (1/f1**2 - 1/f2**2)\n",
    "            print(f\"Dispersion Delay: {delay:.3f} ms\")\n",
    "        except Exception as e:\n",
    "            print(f\"Error: {e}\")\n",
    "\n",
    "compute_btn.on_click(compute_delay)\n",
    "\n",
    "# Display the UI\n",
    "display(widgets.VBox([\n",
    "    widgets.Label(\"Dispersion Delay Calculator\"),\n",
    "    freq1, freq2, dm,\n",
    "    compute_btn, output\n",
    "]))\n"
   ]
  }
 ],
 "metadata": {
  "kernelspec": {
   "display_name": "Python 3 (ipykernel)",
   "language": "python",
   "name": "python3"
  },
  "language_info": {
   "codemirror_mode": {
    "name": "ipython",
    "version": 3
   },
   "file_extension": ".py",
   "mimetype": "text/x-python",
   "name": "python",
   "nbconvert_exporter": "python",
   "pygments_lexer": "ipython3",
   "version": "3.13.2"
  }
 },
 "nbformat": 4,
 "nbformat_minor": 5
}
